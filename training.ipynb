{
 "cells": [
  {
   "cell_type": "code",
   "execution_count": 1,
   "id": "13857a8e",
   "metadata": {},
   "outputs": [
    {
     "name": "stdout",
     "output_type": "stream",
     "text": [
      "TheGALE\n",
      "ENCYCLOPEDIA\n",
      "ofMEDICINE\n",
      "SECOND EDITIONTheGALE\n",
      "ENCYCLOPEDIA\n",
      "ofMEDICINE\n",
      "SECOND EDITION\n",
      "JACQUELINE L. LONGE, EDITOR\n",
      "DEIRDRE S. BLANCHFIELD, ASSOCIATE EDITOR\n",
      "VOLUME\n",
      "C-F2STAFF\n",
      "Jacqueline L. Longe, Project Editor\n",
      "Deirdre S. Blanchfield, Associate Editor\n",
      "Christine B. Jeryan, Managing Editor\n",
      "Donna Olendorf, Senior Editor\n",
      "Stacey Blachford, Associate Editor\n",
      "Kate Kretschmann, Melissa C. McDade, Ryan\n",
      "Thomason, Assistant Editors\n",
      "Mark Springer, Technical Specialist\n",
      "Andrea Lopeman, Programmer/Analyst\n",
      "Barbara J. Yarrow, Manager, Imaging and Multimedia\n",
      "Content\n",
      "Robyn V . Young, Project Manager, Imaging and\n",
      "Multimedia Content\n",
      "Dean Dauphinais, Senior Editor, Imaging and\n",
      "Multimedia Content\n",
      "Kelly A. Quin, Editor, Imaging and Multimedia Content\n",
      "Leitha Etheridge-Sims, Mary K. Grimes, Dave Oblender,\n",
      "Image Catalogers\n",
      "Pamela A. Reed, Imaging Coordinator\n",
      "Randy Bassett, Imaging Supervisor\n",
      "Robert Duncan, Senior Imaging Specialist\n",
      "Dan Newell, Imaging Specialist\n",
      "Christine O’Bryan, Graphic Specialist\n",
      "Maria Fra\n"
     ]
    }
   ],
   "source": [
    "import PyPDF2\n",
    "\n",
    "def extract_text_from_pdf_pypdf2(pdf_path):\n",
    "    text = \"\"\n",
    "    with open(pdf_path, 'rb') as file:\n",
    "        reader = PyPDF2.PdfReader(file)\n",
    "        for page_num in range(len(reader.pages)):\n",
    "            text += reader.pages[page_num].extract_text()\n",
    "    return text\n",
    "\n",
    "pdf_text = extract_text_from_pdf_pypdf2(\"The_GALE_ENCYCLOPEDIA_of_MEDICINE_SECOND.pdf\")\n",
    "\n",
    "print(pdf_text[:1000])"
   ]
  },
  {
   "cell_type": "code",
   "execution_count": 2,
   "id": "5efb8611",
   "metadata": {},
   "outputs": [
    {
     "name": "stdout",
     "output_type": "stream",
     "text": [
      "Total chunks created: 6785\n"
     ]
    }
   ],
   "source": [
    "from langchain.text_splitter import RecursiveCharacterTextSplitter\n",
    "\n",
    "splitter = RecursiveCharacterTextSplitter(\n",
    "    chunk_size=500,\n",
    "    chunk_overlap=50\n",
    ")\n",
    "\n",
    "chunks = splitter.split_text(pdf_text)\n",
    "print(f\"Total chunks created: {len(chunks)}\")\n"
   ]
  },
  {
   "cell_type": "code",
   "execution_count": 3,
   "id": "a6bf5411",
   "metadata": {},
   "outputs": [
    {
     "name": "stderr",
     "output_type": "stream",
     "text": [
      "C:\\Users\\ASUS\\AppData\\Local\\Temp\\ipykernel_21360\\187282111.py:6: LangChainDeprecationWarning: The class `OpenAIEmbeddings` was deprecated in LangChain 0.0.9 and will be removed in 0.3.0. An updated version of the class exists in the langchain-openai package and should be used instead. To use it run `pip install -U langchain-openai` and import as `from langchain_openai import OpenAIEmbeddings`.\n",
      "  embed_model = OpenAIEmbeddings(model=\"text-embedding-3-small\")\n"
     ]
    }
   ],
   "source": [
    "from langchain.embeddings import OpenAIEmbeddings\n",
    "import os\n",
    "\n",
    "os.environ[\"OPENAI_API_KEY\"] = \"enter your key here\"\n",
    "\n",
    "embed_model = OpenAIEmbeddings(model=\"text-embedding-3-small\")\n"
   ]
  },
  {
   "cell_type": "code",
   "execution_count": 4,
   "id": "e76fc9fc",
   "metadata": {},
   "outputs": [],
   "source": [
    "from langchain.vectorstores import FAISS\n",
    "\n",
    "vectorstore = FAISS.from_texts(chunks, embedding=embed_model)\n",
    "vectorstore.save_local(\"gale_medical_index\")"
   ]
  },
  {
   "cell_type": "code",
   "execution_count": 5,
   "id": "73988167",
   "metadata": {},
   "outputs": [
    {
     "name": "stderr",
     "output_type": "stream",
     "text": [
      "C:\\Users\\ASUS\\AppData\\Local\\Temp\\ipykernel_21360\\2064865790.py:4: LangChainDeprecationWarning: The class `ChatOpenAI` was deprecated in LangChain 0.0.10 and will be removed in 0.3.0. An updated version of the class exists in the langchain-openai package and should be used instead. To use it run `pip install -U langchain-openai` and import as `from langchain_openai import ChatOpenAI`.\n",
      "  llm = ChatOpenAI(model_name=\"gpt-3.5-turbo\")\n"
     ]
    }
   ],
   "source": [
    "from langchain.chat_models import ChatOpenAI\n",
    "from langchain.chains import RetrievalQA\n",
    "\n",
    "llm = ChatOpenAI(model_name=\"gpt-3.5-turbo\")\n",
    "retriever = vectorstore.as_retriever(search_kwargs={\"k\": 3})\n",
    "\n",
    "qa_chain = RetrievalQA.from_chain_type(\n",
    "    llm=llm,\n",
    "    retriever=retriever,\n",
    "    return_source_documents=True\n",
    ")"
   ]
  },
  {
   "cell_type": "code",
   "execution_count": 6,
   "id": "180c9f90",
   "metadata": {},
   "outputs": [],
   "source": [
    "def ask_doctor_ai(query):\n",
    "    result = qa_chain(query)\n",
    "    print(\"🤖 Doctor AI:\\n\", result[\"result\"])\n",
    "    print(\"\\n📚 Source Snippet:\\n\", result[\"source_documents\"][0].page_content[:300])"
   ]
  },
  {
   "cell_type": "code",
   "execution_count": 7,
   "id": "c74aa5f5",
   "metadata": {},
   "outputs": [
    {
     "name": "stderr",
     "output_type": "stream",
     "text": [
      "C:\\Users\\ASUS\\AppData\\Local\\Temp\\ipykernel_21360\\3563023111.py:2: LangChainDeprecationWarning: The method `Chain.__call__` was deprecated in langchain 0.1.0 and will be removed in 0.3.0. Use invoke instead.\n",
      "  result = qa_chain(query)\n"
     ]
    },
    {
     "name": "stdout",
     "output_type": "stream",
     "text": [
      "🤖 Doctor AI:\n",
      " The symptoms of asthma can include coughing, wheezing, shortness of breath, chest tightness, and difficulty breathing.\n",
      "\n",
      "📚 Source Snippet:\n",
      " inhaled,causes the airways to narrow and pro-\n",
      "duces symptoms of asthma.\n",
      "Antibody —A protein, also called immunoglobu-\n",
      "lin, produced by immune system cells to remove\n",
      "antigens (the foreign substances that trigger the\n",
      "immune response).\n",
      "Fibromyalgia —A condition of debilitating pain,\n",
      "among other symptom\n"
     ]
    }
   ],
   "source": [
    "ask_doctor_ai(\"What are the symptoms of asthma?\")"
   ]
  },
  {
   "cell_type": "code",
   "execution_count": null,
   "id": "4d9a8f7b",
   "metadata": {},
   "outputs": [],
   "source": []
  }
 ],
 "metadata": {
  "kernelspec": {
   "display_name": "Python 3 (ipykernel)",
   "language": "python",
   "name": "python3"
  },
  "language_info": {
   "codemirror_mode": {
    "name": "ipython",
    "version": 3
   },
   "file_extension": ".py",
   "mimetype": "text/x-python",
   "name": "python",
   "nbconvert_exporter": "python",
   "pygments_lexer": "ipython3",
   "version": "3.11.4"
  }
 },
 "nbformat": 4,
 "nbformat_minor": 5
}
